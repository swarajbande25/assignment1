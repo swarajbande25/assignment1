{
 "cells": [
  {
   "cell_type": "code",
   "execution_count": null,
   "id": "9839c056-4ab8-4803-b59e-65b9765ad109",
   "metadata": {},
   "outputs": [],
   "source": [
    "#que1\n",
    "for i in range(1,11):\n",
    "    print(i)"
   ]
  },
  {
   "cell_type": "code",
   "execution_count": null,
   "id": "4b9d79a0-e8fc-4800-82c5-778e2baeae4d",
   "metadata": {},
   "outputs": [],
   "source": [
    "a=1\n",
    "while(a<11):\n",
    "    print(a)\n",
    "    a=a+1"
   ]
  },
  {
   "cell_type": "code",
   "execution_count": 1,
   "id": "34772d81-2ff9-40a5-926b-f89233e38d3c",
   "metadata": {},
   "outputs": [
    {
     "name": "stdout",
     "output_type": "stream",
     "text": [
      "55\n",
      "3628800\n"
     ]
    }
   ],
   "source": [
    "a=0\n",
    "b=1\n",
    "for i in range(1,11):\n",
    "    a=a+i\n",
    "    b=b*i\n",
    "print(a)\n",
    "print(b)"
   ]
  },
  {
   "cell_type": "code",
   "execution_count": 5,
   "id": "371c1df0-cf70-4dd9-b453-28e6486a3fba",
   "metadata": {},
   "outputs": [
    {
     "name": "stdout",
     "output_type": "stream",
     "text": [
      "55\n",
      "3628800\n"
     ]
    }
   ],
   "source": [
    "#que2\n",
    "c=0\n",
    "d=1\n",
    "e=1\n",
    "while(e<11):\n",
    "    c=c+e\n",
    "    d=d*e\n",
    "    e=e+1\n",
    "print(c)\n",
    "print(d)"
   ]
  },
  {
   "cell_type": "code",
   "execution_count": 18,
   "id": "9d32151d-ecf1-4a6b-b4d6-b668098e96fd",
   "metadata": {},
   "outputs": [
    {
     "name": "stdin",
     "output_type": "stream",
     "text": [
      "enter the number of units 310\n"
     ]
    },
    {
     "name": "stdout",
     "output_type": "stream",
     "text": [
      "bill for 310 units, is 2250.0\n"
     ]
    }
   ],
   "source": [
    "#que3\n",
    "n=int(input(\"enter the number of units\"))\n",
    "a=0\n",
    "ab=1\n",
    "b=0\n",
    "bc=1\n",
    "dc=0\n",
    "rs=1\n",
    "p=0\n",
    "pq=1\n",
    "qr=1\n",
    "rs=1\n",
    "st=0\n",
    "if (n<=100):\n",
    "    rs=n*4.5\n",
    "    print(\"bill for {} units, is {}\".format(n,rs))\n",
    "elif (n>100 and n<=200):\n",
    "    a=n-100\n",
    "    ab=a*6\n",
    "    b=n-a\n",
    "    bc=b*4.5\n",
    "    dc=ab+bc\n",
    "    print(\"bill for {} units, is {}\".format(n,dc))\n",
    "elif(n>200 and n<=300):\n",
    "    p=n-200\n",
    "    pq=p*10\n",
    "    qr=100*6\n",
    "    rs=100*4.5\n",
    "    st=pq+qr+rs\n",
    "    print(\"bill for {} units, is {}\".format(n,st))\n",
    "else:\n",
    "    x=n-300\n",
    "    xy=x*20\n",
    "    yz=100*10\n",
    "    zx=100*6\n",
    "    xz=100*4.5\n",
    "    zz=xy+yz+zx+xz\n",
    "    print(\"bill for {} units, is {}\".format(n,zz))\n"
   ]
  },
  {
   "cell_type": "code",
   "execution_count": 15,
   "id": "f8e88832-ad07-483b-a3e4-a10398aaf58d",
   "metadata": {},
   "outputs": [
    {
     "name": "stdout",
     "output_type": "stream",
     "text": [
      "list of 1 to 100\n",
      "\n",
      "\n",
      "[1, 2, 3, 4, 5, 6, 7, 8, 9, 10, 11, 12, 13, 14, 15, 16, 17, 18, 19, 20, 21, 22, 23, 24, 25, 26, 27, 28, 29, 30, 31, 32, 33, 34, 35, 36, 37, 38, 39, 40, 41, 42, 43, 44, 45, 46, 47, 48, 49, 50, 51, 52, 53, 54, 55, 56, 57, 58, 59, 60, 61, 62, 63, 64, 65, 66, 67, 68, 69, 70, 71, 72, 73, 74, 75, 76, 77, 78, 79, 80, 81, 82, 83, 84, 85, 86, 87, 88, 89, 90, 91, 92, 93, 94, 95, 96, 97, 98, 99, 100]\n",
      "\n",
      "\n",
      "list of cube of 1 to 100\n",
      "\n",
      "\n",
      "[1, 8, 27, 64, 125, 216, 343, 512, 729, 1000, 1331, 1728, 2197, 2744, 3375, 4096, 4913, 5832, 6859, 8000, 9261, 10648, 12167, 13824, 15625, 17576, 19683, 21952, 24389, 27000, 29791, 32768, 35937, 39304, 42875, 46656, 50653, 54872, 59319, 64000, 68921, 74088, 79507, 85184, 91125, 97336, 103823, 110592, 117649, 125000, 132651, 140608, 148877, 157464, 166375, 175616, 185193, 195112, 205379, 216000, 226981, 238328, 250047, 262144, 274625, 287496, 300763, 314432, 328509, 343000, 357911, 373248, 389017, 405224, 421875, 438976, 456533, 474552, 493039, 512000, 531441, 551368, 571787, 592704, 614125, 636056, 658503, 681472, 704969, 729000, 753571, 778688, 804357, 830584, 857375, 884736, 912673, 941192, 970299, 1000000]\n",
      "\n",
      "\n",
      "list of cube of number divisible by 4 or 5 is:\n",
      "\n",
      "\n",
      "[8, 64, 125, 216, 512, 1000, 1728, 2744, 3375, 4096, 5832, 8000, 10648, 13824, 15625, 17576, 21952, 27000, 32768, 39304, 42875, 46656, 54872, 64000, 74088, 85184, 91125, 97336, 110592, 125000, 140608, 157464, 166375, 175616, 195112, 216000, 238328, 262144, 274625, 287496, 314432, 343000, 373248, 405224, 421875, 438976, 474552, 512000, 551368, 592704, 614125, 636056, 681472, 729000, 778688, 830584, 857375, 884736, 941192, 1000000]\n"
     ]
    }
   ],
   "source": [
    "#que4\n",
    "li=[]\n",
    "l1=[]\n",
    "l2=[]\n",
    "l3=[]\n",
    "print(\"list of 1 to 100\")\n",
    "print(\"\\n\")\n",
    "for i in range(1,101):\n",
    "    li.append(i)\n",
    "print(li)\n",
    "print(\"\\n\")\n",
    "print(\"list of cube of 1 to 100\")\n",
    "print(\"\\n\")\n",
    "for i in li:\n",
    "    i=i**3\n",
    "    l1.append(i)\n",
    "print(l1)\n",
    "print(\"\\n\")\n",
    "print(\"list of cube of number divisible by 4 or 5 is:\")\n",
    "print(\"\\n\")\n",
    "for i in l1:\n",
    "    if i%4==0 or i%5==0:\n",
    "        l2.append(i)\n",
    "print(l2)\n"
   ]
  },
  {
   "cell_type": "code",
   "execution_count": 22,
   "id": "ad099d60-ad79-4d04-92c4-f60ee2cda16e",
   "metadata": {},
   "outputs": [
    {
     "name": "stdout",
     "output_type": "stream",
     "text": [
      "12\n"
     ]
    }
   ],
   "source": [
    "#que5\n",
    "ip_str= \"I want to become a data scientist\"\n",
    "lo_str=ip_str.lower()\n",
    "count=0\n",
    "for i in lo_str:\n",
    "    if (i=='a' or i=='e' or i=='i' or i=='o' or i=='u'):\n",
    "        count=count+1\n",
    "print(count)"
   ]
  },
  {
   "cell_type": "code",
   "execution_count": null,
   "id": "84bd4380-77cb-4187-8493-235c62cdb5bc",
   "metadata": {},
   "outputs": [],
   "source": []
  }
 ],
 "metadata": {
  "kernelspec": {
   "display_name": "Python 3 (ipykernel)",
   "language": "python",
   "name": "python3"
  },
  "language_info": {
   "codemirror_mode": {
    "name": "ipython",
    "version": 3
   },
   "file_extension": ".py",
   "mimetype": "text/x-python",
   "name": "python",
   "nbconvert_exporter": "python",
   "pygments_lexer": "ipython3",
   "version": "3.10.8"
  }
 },
 "nbformat": 4,
 "nbformat_minor": 5
}
